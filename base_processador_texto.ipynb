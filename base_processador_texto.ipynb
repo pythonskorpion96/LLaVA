{
  "nbformat": 4,
  "nbformat_minor": 0,
  "metadata": {
    "colab": {
      "private_outputs": true,
      "provenance": [],
      "include_colab_link": true
    },
    "kernelspec": {
      "name": "python3",
      "display_name": "Python 3"
    },
    "language_info": {
      "name": "python"
    }
  },
  "cells": [
    {
      "cell_type": "markdown",
      "metadata": {
        "id": "view-in-github",
        "colab_type": "text"
      },
      "source": [
        "<a href=\"https://colab.research.google.com/github/pythonskorpion96/LLaVA/blob/main/base_processador_texto.ipynb\" target=\"_parent\"><img src=\"https://colab.research.google.com/assets/colab-badge.svg\" alt=\"Open In Colab\"/></a>"
      ]
    },
    {
      "cell_type": "code",
      "execution_count": null,
      "metadata": {
        "id": "t6CUmzXhgjS-"
      },
      "outputs": [],
      "source": [
        "navegador = {'secao 4 ' : '''\n",
        "4.1 MISSÃO\n",
        "A instituição se propõe a desenvolver a educação em nível superior, articulando as\n",
        "atividades de ensino, de iniciação científica e de extensão, visando à formação de\n",
        "profissionais cidadãos comprometidos com a responsabilidade social e ambiental,\n",
        "capazes de produzir conhecimentos que contribuam para a transformação da\n",
        "sociedade.\n",
        "Seu trabalho educativo tem como foco o desenvolvimento social, razão pela qual a sua\n",
        "missão está assim declarada: “Promover o desenvolvimento social por meio do\n",
        "conhecimento”.\n",
        "\n",
        "4.2 VISÃO\n",
        "Ser uma Instituição de Educação Superior Tecnológica de referência no Estado do\n",
        "Espírito Santo e no Brasil.\n",
        "\n",
        "4.3 FILOSOFIA\n",
        "Conceber a Educação como fator de transformação social e humana, por isso, propõese a formar cidadãos com competências e habilidades para participação ativa no\n",
        "processo de desenvolvimento social, por meio da integração entre os saberes:\n",
        "conceber, fazer, conviver e ser, sempre pensando e agindo estrategicamente, visando a\n",
        "qualidade de vida de forma holística e integrada.\n",
        "'''}"
      ]
    },
    {
      "cell_type": "code",
      "source": [
        "!wget https://portal.cetfaesa.com.br/midias/manualaluno-157.pdf"
      ],
      "metadata": {
        "id": "go7yr2NDe95W"
      },
      "execution_count": null,
      "outputs": []
    },
    {
      "cell_type": "code",
      "source": [
        "#!sudo apt-get install poppler-utils\n",
        "!pdftotext   '/content/manualaluno-157.pdf'\n",
        "#!sudo apt install build-essential libpoppler-cpp-dev pkg-config python3-dev\n",
        "#!pdftotext   '/content/manualaluno-157.pdf'"
      ],
      "metadata": {
        "id": "VUYcWdpJfGWf"
      },
      "execution_count": null,
      "outputs": []
    },
    {
      "cell_type": "code",
      "source": [
        "#!tail  manualaluno-157.txt"
      ],
      "metadata": {
        "id": "NRRQi8p0paEk"
      },
      "execution_count": null,
      "outputs": []
    },
    {
      "cell_type": "code",
      "source": [
        "#!pip install -U spacy\n",
        "!pip install -U spacy-lookups-data --quiet\n",
        "#!python -m spacy download pt_core_news_sm --quiet"
      ],
      "metadata": {
        "id": "KxG3W1TSivOP"
      },
      "execution_count": null,
      "outputs": []
    },
    {
      "cell_type": "code",
      "source": [
        "from __future__ import unicode_literals\n",
        "import spacy\n",
        "from spacy.lang.pt.examples import sentences\n",
        "from spacy import displacy\n",
        "\n",
        "nlp = spacy.load('pt_core_news_sm')"
      ],
      "metadata": {
        "id": "ZPa1oXfhj0xS"
      },
      "execution_count": null,
      "outputs": []
    },
    {
      "cell_type": "code",
      "source": [
        "\n",
        "\n",
        "with open(\"./manualaluno-157.txt\") as my_file:\n",
        "    texto = my_file.read()\n",
        "\n",
        "\n",
        "#doc = nlp(texto)\n",
        "\n",
        "#displacy.render(doc, style='ent', jupyter=True)\n",
        "\n",
        "print(texto)"
      ],
      "metadata": {
        "id": "BcBQmrpyimD7"
      },
      "execution_count": null,
      "outputs": []
    },
    {
      "cell_type": "code",
      "source": [
        "for i in texto.split(\"\\n\"):  ##doc.sents:\n",
        "  print(i)"
      ],
      "metadata": {
        "id": "abqQiKe2qxP9"
      },
      "execution_count": null,
      "outputs": []
    },
    {
      "cell_type": "code",
      "source": [
        "\n",
        "offsets=[]\n",
        "lista_paragrafos = texto.split(\"\\n\")\n",
        "\n",
        "lista_paragrafos.index('1. APRESENTAÇÃO')"
      ],
      "metadata": {
        "id": "D2iQFeMJj9TY"
      },
      "execution_count": null,
      "outputs": []
    },
    {
      "cell_type": "code",
      "source": [
        "lista_paragrafos.index('19. 3 FORMULÁRIO DE SOLICITAÇÃO DE PROVA SUBSTITUTIVA')"
      ],
      "metadata": {
        "id": "qlXfLE44s9Ct"
      },
      "execution_count": null,
      "outputs": []
    },
    {
      "cell_type": "code",
      "source": [
        "print(\"\\n\".join(lista_paragrafos[70:94]))"
      ],
      "metadata": {
        "id": "iSBGYUrrtAsX"
      },
      "execution_count": null,
      "outputs": []
    },
    {
      "cell_type": "code",
      "source": [
        "titulo_posicao = []\n",
        "\n",
        "for i in lista_paragrafos :  ##doc.sents:\n",
        "  if len(i)!=0:\n",
        "       if len(i)>2:\n",
        "        if (i[1]=='.' and i[2]==' ' and not i[-1].isnumeric()) or \\\n",
        "           (i[2]=='.' and i[3]==' ' and not i[-1].isnumeric()) :\n",
        "          #if x = txt.isnumeric()i[-1]\n",
        "\n",
        "          #print(i)\n",
        "          titulo_posicao.append([i, lista_paragrafos.index(i)])\n",
        "          #print(i[:10])\n",
        "          #print(i[-10:])\n",
        "          #print('#'*50)\n",
        "\n",
        "titulo_posicao"
      ],
      "metadata": {
        "id": "aOM2SDEBsyY9"
      },
      "execution_count": null,
      "outputs": []
    },
    {
      "cell_type": "code",
      "source": [],
      "metadata": {
        "id": "qGJaqxEAv6zH"
      },
      "execution_count": null,
      "outputs": []
    },
    {
      "cell_type": "code",
      "source": [
        "saida = [\"<html><body><p>\"]\n",
        "\n",
        "for i in lista_paragrafos[101:108]:\n",
        "    saida.append(i)\n",
        "\n",
        "saida.append(\"</p></body></html>\")\n",
        "saidaArquivo = \"<br>\".join(saida)\n",
        "\n",
        "f = open(\"secao3.html\", \"a\")\n",
        "f.write(saidaArquivo)\n",
        "f.close()\n"
      ],
      "metadata": {
        "id": "lD6aa29xli_D"
      },
      "execution_count": null,
      "outputs": []
    },
    {
      "cell_type": "code",
      "source": [
        "tabela = \"\"\"\n",
        "MS 0 0,5 1,0 1,5 2,0 2,5 3,0 3,5 4,0 4,5 5,0 5,5 6,0 6,5 7,0 7,5 8,0 8,5 9,0 9,5 10,0\n",
        "0 0,0 0,0 0,5 0,5 1,0 1,0 1,0 1,5 1,5 2,0 2,0 2,0 2,5 2,5 3,0 3,0 3,0 3,5 3,5 4,0 4,0\n",
        "0,5 0,5 0,5 0,5 1,0 1,0 1,5 1,5 1,5 2,0 2,0 2,5 2,5 2,5 3,0 3,0 3,5 3,5 3,5 4,0 4,0 4,5\n",
        "1,0 0,5 1,0 1,0 1,0 1,5 1,5 2,0 2,0 2,0 2,5 2,5 3,0 3,0 3,0 3,5 3,5 4,0 4,0 4,0 4,5 4,5\n",
        "1,5 1,0 1,0 1,5 1,5 1,5 2,0 2,0 2,5 2,5 2,5 3,0 3,0 3,5 3,5 3,5 4,0 4,0 4,5 4,5 4,5 5,0\n",
        "2,0 1,0 1,5 1,5 2,0 2,0 2,0 2,5 2,5 3,0 3,0 3,0 3,5 3,5 4,0 4,0 4,0 4,5 4,5 5,0 5,0 5,0\n",
        "2,5 1,5 1,5 2,0 2,0 2,5 2,5 2,5 3,0 3,0 3,5 3,5 3,5 4,0 4,0 4,5 4,5 4,5 5,0 5,0 5,5 5,5\n",
        "3,0 2,0 2,0 2,0 2,5 2,5 3,0 3,0 3,0 3,5 3,5 4,0 4,0 4,0 4,5 4,5 5,0 5,0 5,0 5,5 5,5 6,0\n",
        "3,5 2,0 2,5 2,5 2,5 3,0 3,0 3,5 3,5 3,5 4,0 4,0 4,5 4,5 4,5 5,0 5,0 5,5 5,5 5,5 6,0 6,0\n",
        "4,0 2,5 2,5 3,0 3,0 3,0 3,5 3,5 4,0 4,0 4,0 4,5 4,5 5,0 5,0 5,0 5,5 5,5 6,0 6,0 6,0 6,5\n",
        "4,5 2,5 3,0 3,0 3,5 3,5 3,5 4,0 4,0 4,5 4,5 4,5 5,0 5,0 5,5 5,5 5,5 6,0 6,0 6,5 6,5 6,5\n",
        "5,0 3,0 3,0 3,5 3,5 4,0 4,0 4,0 4,5 4,5 5,0 5,0 5,0 5,5 5,5 6,0 6,0 6,0 6,5 6,5 7,0 7,0\n",
        "5,5 3,5 3,5 3,5 4,0 4,0 4,5 4,5 4,5 5,0 5,0 5,5 5,5 5,5 6,0 6,0 6,5 6,5 6,5 7,0 7,0 7,5\n",
        "6,0 3,5 4,0 4,0 4,0 4,5 4,5 5,0 5,0 5,0 5,5 5,5 6,0 6,0 6,0 6,5 6,5 7,0 7,0 7,0 7,5 7,5\n",
        "6,5 4,0 4,0 4,5 4,5 4,5 5,0 5,0 5,5 5,5 5,5 6,0 6,0 6,5 6,5 6,5 7,0 7,0 7,5 7,5 7,5 8,0\n",
        "\"\"\"\n",
        "\n",
        "codigo = [\"<table>\"]\n",
        "for t in tabela.split('\\n'):\n",
        "  codigo.append(\"<tr>\")\n",
        "  for celula in t.split(\" \"):\n",
        "    codigo.append(\"<td>\")\n",
        "    codigo.append(celula)\n",
        "    codigo.append(\"</td>\")\n",
        "  codigo.append(t)\n",
        "  codigo.append(\"</tr>\")\n",
        "codigo.append('</table>')\n",
        "\" \".join(codigo)\n"
      ],
      "metadata": {
        "id": "INK50G10gA-7"
      },
      "execution_count": null,
      "outputs": []
    },
    {
      "cell_type": "code",
      "source": [
        "!cat !pdftotext   '/content/manualaluno-157.txt'"
      ],
      "metadata": {
        "id": "zvxE7hZHgFkk"
      },
      "execution_count": null,
      "outputs": []
    },
    {
      "cell_type": "code",
      "source": [],
      "metadata": {
        "id": "23oozH8KAEG4"
      },
      "execution_count": null,
      "outputs": []
    }
  ]
}